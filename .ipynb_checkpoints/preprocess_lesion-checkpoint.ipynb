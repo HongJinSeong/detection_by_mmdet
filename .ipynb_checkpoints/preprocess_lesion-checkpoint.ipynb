{
 "cells": [
  {
   "cell_type": "code",
   "execution_count": 1,
   "id": "2426a45f-ec4a-41b0-bb45-6479f847eb69",
   "metadata": {},
   "outputs": [],
   "source": [
    "import os\n",
    "import glob as _glob\n",
    "import os.path as osp\n",
    "import numpy as np"
   ]
  },
  {
   "cell_type": "code",
   "execution_count": 2,
   "id": "2ce5e17d-eab1-42b3-b9f2-018358ca7f03",
   "metadata": {},
   "outputs": [],
   "source": [
    "def glob(dir, pats, recursive=False):  # faster than match, python3 only\n",
    "    pats = pats if isinstance(pats, (list, tuple)) else [pats]\n",
    "    matches = []\n",
    "    for pat in pats:\n",
    "        matches += _glob.glob(os.path.join(dir, pat), recursive=recursive)\n",
    "    return matches"
   ]
  },
  {
   "cell_type": "code",
   "execution_count": 10,
   "id": "cd171579-a139-46b5-b8c1-0ecf01669ee3",
   "metadata": {},
   "outputs": [],
   "source": [
    "ann_ls=glob('lesion_DB/train','*.json')"
   ]
  },
  {
   "cell_type": "code",
   "execution_count": 12,
   "id": "80fc1cf0-027f-45ed-a49b-9adeca4049c2",
   "metadata": {},
   "outputs": [],
   "source": [
    "ann_ls = np.array(ann_ls)"
   ]
  },
  {
   "cell_type": "code",
   "execution_count": 14,
   "id": "2ce15424-392e-4162-b3a2-937537464459",
   "metadata": {},
   "outputs": [],
   "source": [
    "total_idx = np.arange(ann_ls.shape[0])"
   ]
  },
  {
   "cell_type": "code",
   "execution_count": 16,
   "id": "379d2641-2607-4d0f-b965-383bed608728",
   "metadata": {},
   "outputs": [],
   "source": [
    "test_idx = np.random.choice(total_idx,size=int(total_idx.shape[0]*0.05),replace=False)"
   ]
  },
  {
   "cell_type": "code",
   "execution_count": 18,
   "id": "5daa38c0-480b-47c9-9f3c-7b9f92eb319f",
   "metadata": {},
   "outputs": [
    {
     "data": {
      "text/plain": [
       "(3131,)"
      ]
     },
     "execution_count": 18,
     "metadata": {},
     "output_type": "execute_result"
    }
   ],
   "source": [
    "test_idx.shape"
   ]
  },
  {
   "cell_type": "code",
   "execution_count": 19,
   "id": "4a6fa2db-37db-4f86-ab56-5662d448965b",
   "metadata": {},
   "outputs": [],
   "source": [
    "train_idx=np.delete(total_idx,test_idx)"
   ]
  },
  {
   "cell_type": "code",
   "execution_count": 20,
   "id": "146e22ab-76b5-4b4b-9716-0bb0dc6a2fa9",
   "metadata": {},
   "outputs": [
    {
     "data": {
      "text/plain": [
       "array([    0,     1,     3, ..., 62619, 62620, 62621])"
      ]
     },
     "execution_count": 20,
     "metadata": {},
     "output_type": "execute_result"
    }
   ],
   "source": [
    "train_idx"
   ]
  },
  {
   "cell_type": "code",
   "execution_count": 21,
   "id": "bdc0fcbf-fe4f-4931-be3b-49c31bde5b6e",
   "metadata": {},
   "outputs": [
    {
     "data": {
      "text/plain": [
       "array([15563, 36409, 27329, ..., 39901, 12005, 15935])"
      ]
     },
     "execution_count": 21,
     "metadata": {},
     "output_type": "execute_result"
    }
   ],
   "source": [
    "test_idx"
   ]
  },
  {
   "cell_type": "code",
   "execution_count": 22,
   "id": "bbee684b-4b56-4f86-bb4c-fe2721f49f10",
   "metadata": {},
   "outputs": [],
   "source": [
    "train_ls=ann_ls[train_idx]\n",
    "test_ls=ann_ls[test_idx]"
   ]
  },
  {
   "cell_type": "code",
   "execution_count": 24,
   "id": "12a6d2f1-4806-40e0-af46-550b8939957d",
   "metadata": {},
   "outputs": [
    {
     "data": {
      "text/plain": [
       "(3131,)"
      ]
     },
     "execution_count": 24,
     "metadata": {},
     "output_type": "execute_result"
    }
   ],
   "source": [
    "test_ls.shape"
   ]
  },
  {
   "cell_type": "code",
   "execution_count": 25,
   "id": "e5cd06df-901f-4b64-9e55-63ab650e7d61",
   "metadata": {},
   "outputs": [],
   "source": [
    "train_ls = train_ls.tolist()\n",
    "test_ls = test_ls.tolist()"
   ]
  },
  {
   "cell_type": "code",
   "execution_count": 26,
   "id": "ed659f63-75df-490e-b513-89af15a13463",
   "metadata": {},
   "outputs": [],
   "source": [
    "with open(osp.join('splits', 'lesion_train.txt'), 'w') as f:\n",
    "  f.writelines(line + '\\n' for line in train_ls)\n",
    "\n",
    "with open(osp.join('splits', 'lesion_val.txt'), 'w') as f:\n",
    "  f.writelines(line + '\\n' for line in test_ls)"
   ]
  },
  {
   "cell_type": "code",
   "execution_count": 27,
   "id": "b0ce1bb1-3ac4-433c-865f-09fde4e9a7a9",
   "metadata": {},
   "outputs": [],
   "source": [
    "import json"
   ]
  },
  {
   "cell_type": "code",
   "execution_count": null,
   "id": "c78ba0bd-87c3-4882-be28-29c56a784ae3",
   "metadata": {},
   "outputs": [],
   "source": [
    "with open(img, \"r\") as json_file:\n",
    "            json_data = json.load(json_file)"
   ]
  }
 ],
 "metadata": {
  "kernelspec": {
   "display_name": "Python 3 (ipykernel)",
   "language": "python",
   "name": "python3"
  },
  "language_info": {
   "codemirror_mode": {
    "name": "ipython",
    "version": 3
   },
   "file_extension": ".py",
   "mimetype": "text/x-python",
   "name": "python",
   "nbconvert_exporter": "python",
   "pygments_lexer": "ipython3",
   "version": "3.7.10"
  }
 },
 "nbformat": 4,
 "nbformat_minor": 5
}
