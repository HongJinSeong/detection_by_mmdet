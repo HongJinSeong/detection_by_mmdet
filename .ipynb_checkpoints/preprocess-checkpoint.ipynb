{
 "cells": [
  {
   "cell_type": "code",
   "execution_count": 1,
   "id": "2d346625-913e-4af5-a2e8-9ef2ac48eeb8",
   "metadata": {},
   "outputs": [
    {
     "name": "stdout",
     "output_type": "stream",
     "text": [
      "\u001b[33mWARNING: The directory '/root/.cache/pip' or its parent directory is not owned or is not writable by the current user. The cache has been disabled. Check the permissions and owner of that directory. If executing pip with sudo, you should use sudo's -H flag.\u001b[0m\n",
      "Collecting openmim\n",
      "  Downloading openmim-0.1.5.tar.gz (35 kB)\n",
      "  Preparing metadata (setup.py) ... \u001b[?25ldone\n",
      "\u001b[?25hCollecting Click==7.1.2\n",
      "  Downloading click-7.1.2-py2.py3-none-any.whl (82 kB)\n",
      "     |████████████████████████████████| 82 kB 11.5 MB/s            \n",
      "\u001b[?25hCollecting colorama\n",
      "  Downloading colorama-0.4.4-py2.py3-none-any.whl (16 kB)\n",
      "Requirement already satisfied: requests in /opt/conda/lib/python3.7/site-packages (from openmim) (2.24.0)\n",
      "Collecting model-index\n",
      "  Downloading model_index-0.1.11-py3-none-any.whl (34 kB)\n",
      "Collecting pandas\n",
      "  Downloading pandas-1.3.4-cp37-cp37m-manylinux_2_17_x86_64.manylinux2014_x86_64.whl (11.3 MB)\n",
      "     |████████████████████████████████| 11.3 MB 5.9 MB/s            \n",
      "\u001b[?25hCollecting tabulate\n",
      "  Downloading tabulate-0.8.9-py3-none-any.whl (25 kB)\n",
      "Collecting ordered-set\n",
      "  Downloading ordered-set-4.0.2.tar.gz (10 kB)\n",
      "  Preparing metadata (setup.py) ... \u001b[?25ldone\n",
      "\u001b[?25hCollecting markdown\n",
      "  Downloading Markdown-3.3.5-py3-none-any.whl (97 kB)\n",
      "     |████████████████████████████████| 97 kB 12.8 MB/s            \n",
      "\u001b[?25hRequirement already satisfied: pyyaml in /opt/conda/lib/python3.7/site-packages (from model-index->openmim) (5.4.1)\n",
      "Requirement already satisfied: numpy>=1.17.3 in /opt/conda/lib/python3.7/site-packages (from pandas->openmim) (1.20.2)\n",
      "Requirement already satisfied: pytz>=2017.3 in /opt/conda/lib/python3.7/site-packages (from pandas->openmim) (2021.1)\n",
      "Requirement already satisfied: python-dateutil>=2.7.3 in /opt/conda/lib/python3.7/site-packages (from pandas->openmim) (2.8.2)\n",
      "Requirement already satisfied: idna<3,>=2.5 in /opt/conda/lib/python3.7/site-packages (from requests->openmim) (2.10)\n",
      "Requirement already satisfied: certifi>=2017.4.17 in /opt/conda/lib/python3.7/site-packages (from requests->openmim) (2021.5.30)\n",
      "Requirement already satisfied: urllib3!=1.25.0,!=1.25.1,<1.26,>=1.21.1 in /opt/conda/lib/python3.7/site-packages (from requests->openmim) (1.25.11)\n",
      "Requirement already satisfied: chardet<4,>=3.0.2 in /opt/conda/lib/python3.7/site-packages (from requests->openmim) (3.0.4)\n",
      "Requirement already satisfied: six>=1.5 in /opt/conda/lib/python3.7/site-packages (from python-dateutil>=2.7.3->pandas->openmim) (1.16.0)\n",
      "Requirement already satisfied: importlib-metadata>='4.4' in /opt/conda/lib/python3.7/site-packages (from markdown->model-index->openmim) (4.8.2)\n",
      "Requirement already satisfied: typing-extensions>=3.6.4 in /opt/conda/lib/python3.7/site-packages (from importlib-metadata>='4.4'->markdown->model-index->openmim) (3.7.4.3)\n",
      "Requirement already satisfied: zipp>=0.5 in /opt/conda/lib/python3.7/site-packages (from importlib-metadata>='4.4'->markdown->model-index->openmim) (3.6.0)\n",
      "Building wheels for collected packages: openmim, ordered-set\n",
      "  Building wheel for openmim (setup.py) ... \u001b[?25ldone\n",
      "\u001b[?25h  Created wheel for openmim: filename=openmim-0.1.5-py2.py3-none-any.whl size=42502 sha256=4af9c0657aab3635dd65e33834ebb09f189e9d7da7d15346e73de5890b2b7099\n",
      "  Stored in directory: /tmp/pip-ephem-wheel-cache-77v26axd/wheels/16/8b/e1/bdebbbc687aa50224a5ce46fe97a040a0c59f92b34bfc750b6\n",
      "  Building wheel for ordered-set (setup.py) ... \u001b[?25ldone\n",
      "\u001b[?25h  Created wheel for ordered-set: filename=ordered_set-4.0.2-py2.py3-none-any.whl size=8209 sha256=1aa0a22fd34213a90092beb36ba62ac242accec149112c787f80534e4f59f615\n",
      "  Stored in directory: /tmp/pip-ephem-wheel-cache-77v26axd/wheels/73/2b/f6/26e9f84153c25050fe7c09e88f8e32a6be3c7034a38c418319\n",
      "Successfully built openmim ordered-set\n",
      "Installing collected packages: ordered-set, markdown, Click, tabulate, pandas, model-index, colorama, openmim\n",
      "Successfully installed Click-7.1.2 colorama-0.4.4 markdown-3.3.5 model-index-0.1.11 openmim-0.1.5 ordered-set-4.0.2 pandas-1.3.4 tabulate-0.8.9\n",
      "\u001b[33mWARNING: Running pip as the 'root' user can result in broken permissions and conflicting behaviour with the system package manager. It is recommended to use a virtual environment instead: https://pip.pypa.io/warnings/venv\u001b[0m\n"
     ]
    }
   ],
   "source": [
    "!pip install openmim"
   ]
  },
  {
   "cell_type": "code",
   "execution_count": 33,
   "id": "c0dda42e-f9bb-4187-b1eb-0d291f720870",
   "metadata": {},
   "outputs": [
    {
     "name": "stdout",
     "output_type": "stream",
     "text": [
      "Collecting scikit-learn\n",
      "  Downloading scikit_learn-1.0.1-cp37-cp37m-manylinux_2_12_x86_64.manylinux2010_x86_64.whl (23.2 MB)\n",
      "     |████████████████████████████████| 23.2 MB 10.8 MB/s            \n",
      "\u001b[?25hCollecting scipy>=1.1.0\n",
      "  Downloading scipy-1.7.2-cp37-cp37m-manylinux_2_12_x86_64.manylinux2010_x86_64.whl (38.2 MB)\n",
      "     |████████████████████████████████| 38.2 MB 10.9 MB/s            \n",
      "\u001b[?25hCollecting joblib>=0.11\n",
      "  Downloading joblib-1.1.0-py2.py3-none-any.whl (306 kB)\n",
      "     |████████████████████████████████| 306 kB 10.9 MB/s            \n",
      "\u001b[?25hRequirement already satisfied: numpy>=1.14.6 in /opt/conda/lib/python3.7/site-packages (from scikit-learn) (1.20.2)\n",
      "Collecting threadpoolctl>=2.0.0\n",
      "  Downloading threadpoolctl-3.0.0-py3-none-any.whl (14 kB)\n",
      "Installing collected packages: threadpoolctl, scipy, joblib, scikit-learn\n",
      "Successfully installed joblib-1.1.0 scikit-learn-1.0.1 scipy-1.7.2 threadpoolctl-3.0.0\n",
      "\u001b[33mWARNING: Running pip as the 'root' user can result in broken permissions and conflicting behaviour with the system package manager. It is recommended to use a virtual environment instead: https://pip.pypa.io/warnings/venv\u001b[0m\n"
     ]
    }
   ],
   "source": [
    "!pip install scikit-learn"
   ]
  },
  {
   "cell_type": "code",
   "execution_count": 4,
   "id": "ee1d2408-2445-4847-b4ee-35e62bd19900",
   "metadata": {},
   "outputs": [
    {
     "name": "stdout",
     "output_type": "stream",
     "text": [
      "Collecting mmcv-full\n",
      "  Downloading mmcv-full-1.3.17.tar.gz (390 kB)\n",
      "     |████████████████████████████████| 390 kB 9.1 MB/s            \n",
      "\u001b[?25h  Preparing metadata (setup.py) ... \u001b[?25ldone\n",
      "\u001b[?25hCollecting addict\n",
      "  Downloading addict-2.4.0-py3-none-any.whl (3.8 kB)\n",
      "Requirement already satisfied: numpy in /opt/conda/lib/python3.7/site-packages (from mmcv-full) (1.20.2)\n",
      "Requirement already satisfied: packaging in /opt/conda/lib/python3.7/site-packages (from mmcv-full) (21.2)\n",
      "Requirement already satisfied: Pillow in /opt/conda/lib/python3.7/site-packages (from mmcv-full) (8.2.0)\n",
      "Requirement already satisfied: pyyaml in /opt/conda/lib/python3.7/site-packages (from mmcv-full) (5.4.1)\n",
      "Collecting yapf\n",
      "  Downloading yapf-0.31.0-py2.py3-none-any.whl (185 kB)\n",
      "     |████████████████████████████████| 185 kB 6.8 MB/s            \n",
      "\u001b[?25hCollecting opencv-python>=3\n",
      "  Downloading opencv_python-4.5.4.58-cp37-cp37m-manylinux2014_x86_64.whl (60.3 MB)\n",
      "     |████████████████████████████████| 60.3 MB 12.2 MB/s            \n",
      "\u001b[?25hRequirement already satisfied: pyparsing<3,>=2.0.2 in /opt/conda/lib/python3.7/site-packages (from packaging->mmcv-full) (2.4.7)\n",
      "Building wheels for collected packages: mmcv-full\n",
      "  Building wheel for mmcv-full (setup.py) ... \u001b[?25ldone\n",
      "\u001b[?25h  Created wheel for mmcv-full: filename=mmcv_full-1.3.17-cp37-cp37m-linux_x86_64.whl size=43669400 sha256=ea412beab6296aa6273ea44072d171b16e9a19080c340eb3a0268bdb3dceb9a9\n",
      "  Stored in directory: /root/.cache/pip/wheels/5f/63/2c/49cc449e4a860b364c49c0b77d2275cb012f625d7c9203e444\n",
      "Successfully built mmcv-full\n",
      "Installing collected packages: yapf, opencv-python, addict, mmcv-full\n",
      "Successfully installed addict-2.4.0 mmcv-full-1.3.17 opencv-python-4.5.4.58 yapf-0.31.0\n",
      "\u001b[33mWARNING: Running pip as the 'root' user can result in broken permissions and conflicting behaviour with the system package manager. It is recommended to use a virtual environment instead: https://pip.pypa.io/warnings/venv\u001b[0m\n",
      "Note: you may need to restart the kernel to use updated packages.\n"
     ]
    }
   ],
   "source": [
    "pip install mmcv-full"
   ]
  },
  {
   "cell_type": "code",
   "execution_count": 5,
   "id": "06f0b1e5-300e-4784-8d26-b44d9e66656b",
   "metadata": {},
   "outputs": [
    {
     "name": "stdout",
     "output_type": "stream",
     "text": [
      "Collecting mmdet\n",
      "  Downloading mmdet-2.18.1-py3-none-any.whl (1.2 MB)\n",
      "     |████████████████████████████████| 1.2 MB 11.1 MB/s            \n",
      "\u001b[?25hRequirement already satisfied: six in /opt/conda/lib/python3.7/site-packages (from mmdet) (1.16.0)\n",
      "Collecting matplotlib\n",
      "  Downloading matplotlib-3.5.0-cp37-cp37m-manylinux_2_5_x86_64.manylinux1_x86_64.whl (11.2 MB)\n",
      "     |████████████████████████████████| 11.2 MB 4.9 MB/s             \n",
      "\u001b[?25hCollecting pycocotools\n",
      "  Downloading pycocotools-2.0.2.tar.gz (23 kB)\n",
      "  Preparing metadata (setup.py) ... \u001b[?25ldone\n",
      "\u001b[?25hCollecting terminaltables\n",
      "  Downloading terminaltables-3.1.0.tar.gz (12 kB)\n",
      "  Preparing metadata (setup.py) ... \u001b[?25ldone\n",
      "\u001b[?25hRequirement already satisfied: numpy in /opt/conda/lib/python3.7/site-packages (from mmdet) (1.20.2)\n",
      "Requirement already satisfied: packaging>=20.0 in /opt/conda/lib/python3.7/site-packages (from matplotlib->mmdet) (21.2)\n",
      "Collecting kiwisolver>=1.0.1\n",
      "  Downloading kiwisolver-1.3.2-cp37-cp37m-manylinux_2_5_x86_64.manylinux1_x86_64.whl (1.1 MB)\n",
      "     |████████████████████████████████| 1.1 MB 11.0 MB/s            \n",
      "\u001b[?25hCollecting setuptools-scm>=4\n",
      "  Downloading setuptools_scm-6.3.2-py3-none-any.whl (33 kB)\n",
      "Collecting cycler>=0.10\n",
      "  Downloading cycler-0.11.0-py3-none-any.whl (6.4 kB)\n",
      "Collecting fonttools>=4.22.0\n",
      "  Downloading fonttools-4.28.1-py3-none-any.whl (873 kB)\n",
      "     |████████████████████████████████| 873 kB 10.9 MB/s            \n",
      "\u001b[?25hRequirement already satisfied: pillow>=6.2.0 in /opt/conda/lib/python3.7/site-packages (from matplotlib->mmdet) (8.2.0)\n",
      "Requirement already satisfied: python-dateutil>=2.7 in /opt/conda/lib/python3.7/site-packages (from matplotlib->mmdet) (2.8.2)\n",
      "Requirement already satisfied: pyparsing>=2.2.1 in /opt/conda/lib/python3.7/site-packages (from matplotlib->mmdet) (2.4.7)\n",
      "Requirement already satisfied: setuptools>=18.0 in /opt/conda/lib/python3.7/site-packages (from pycocotools->mmdet) (52.0.0.post20210125)\n",
      "Collecting cython>=0.27.3\n",
      "  Using cached Cython-0.29.24-cp37-cp37m-manylinux1_x86_64.whl (2.0 MB)\n",
      "Collecting tomli>=1.0.0\n",
      "  Downloading tomli-1.2.2-py3-none-any.whl (12 kB)\n",
      "Building wheels for collected packages: pycocotools, terminaltables\n",
      "  Building wheel for pycocotools (setup.py) ... \u001b[?25ldone\n",
      "\u001b[?25h  Created wheel for pycocotools: filename=pycocotools-2.0.2-cp37-cp37m-linux_x86_64.whl size=272860 sha256=1c04a4dd1bc28e85fd525fcf535acd796e5f769038ea6ec3cc96f5b259cf2656\n",
      "  Stored in directory: /root/.cache/pip/wheels/bc/cf/1b/e95c99c5f9d1648be3f500ca55e7ce55f24818b0f48336adaf\n",
      "  Building wheel for terminaltables (setup.py) ... \u001b[?25ldone\n",
      "\u001b[?25h  Created wheel for terminaltables: filename=terminaltables-3.1.0-py3-none-any.whl size=15354 sha256=b0ffefc0b025d40fe80638f2db4d84f1c3787f8a6fd215cede00ac52b75fcb6c\n",
      "  Stored in directory: /root/.cache/pip/wheels/ba/ad/c8/2d98360791161cd3db6daf6b5e730f34021fc9367d5879f497\n",
      "Successfully built pycocotools terminaltables\n",
      "Installing collected packages: tomli, setuptools-scm, kiwisolver, fonttools, cycler, matplotlib, cython, terminaltables, pycocotools, mmdet\n",
      "Successfully installed cycler-0.11.0 cython-0.29.24 fonttools-4.28.1 kiwisolver-1.3.2 matplotlib-3.5.0 mmdet-2.18.1 pycocotools-2.0.2 setuptools-scm-6.3.2 terminaltables-3.1.0 tomli-1.2.2\n",
      "\u001b[33mWARNING: Running pip as the 'root' user can result in broken permissions and conflicting behaviour with the system package manager. It is recommended to use a virtual environment instead: https://pip.pypa.io/warnings/venv\u001b[0m\n",
      "Note: you may need to restart the kernel to use updated packages.\n"
     ]
    }
   ],
   "source": [
    "pip install mmdet"
   ]
  },
  {
   "cell_type": "code",
   "execution_count": 7,
   "id": "4e364a06-f8d7-4227-891a-d698dad35c55",
   "metadata": {},
   "outputs": [
    {
     "name": "stdout",
     "output_type": "stream",
     "text": [
      "Ign:1 https://developer.download.nvidia.com/compute/cuda/repos/ubuntu1804/x86_64  InRelease\n",
      "Get:2 http://security.ubuntu.com/ubuntu bionic-security InRelease [88.7 kB]\n",
      "Ign:3 https://developer.download.nvidia.com/compute/machine-learning/repos/ubuntu1804/x86_64  InRelease\n",
      "Get:4 https://developer.download.nvidia.com/compute/cuda/repos/ubuntu1804/x86_64  Release [696 B]\n",
      "Get:5 https://developer.download.nvidia.com/compute/machine-learning/repos/ubuntu1804/x86_64  Release [564 B]\n",
      "Get:6 https://developer.download.nvidia.com/compute/cuda/repos/ubuntu1804/x86_64  Release.gpg [836 B]\n",
      "Get:7 https://developer.download.nvidia.com/compute/machine-learning/repos/ubuntu1804/x86_64  Release.gpg [833 B]\n",
      "Get:8 http://archive.ubuntu.com/ubuntu bionic InRelease [242 kB]               \n",
      "Get:9 https://developer.download.nvidia.com/compute/cuda/repos/ubuntu1804/x86_64  Packages [808 kB]\n",
      "Get:10 https://developer.download.nvidia.com/compute/machine-learning/repos/ubuntu1804/x86_64  Packages [73.8 kB]\n",
      "Get:11 http://security.ubuntu.com/ubuntu bionic-security/main amd64 Packages [2430 kB]\n",
      "Get:12 http://archive.ubuntu.com/ubuntu bionic-updates InRelease [88.7 kB]     \n",
      "Get:13 http://archive.ubuntu.com/ubuntu bionic-backports InRelease [74.6 kB]   \n",
      "Get:14 http://security.ubuntu.com/ubuntu bionic-security/multiverse amd64 Packages [26.8 kB]\n",
      "Get:15 http://security.ubuntu.com/ubuntu bionic-security/universe amd64 Packages [1442 kB]\n",
      "Get:16 http://archive.ubuntu.com/ubuntu bionic/restricted amd64 Packages [13.5 kB]\n",
      "Get:17 http://archive.ubuntu.com/ubuntu bionic/main amd64 Packages [1344 kB]\n",
      "Get:18 http://security.ubuntu.com/ubuntu bionic-security/restricted amd64 Packages [666 kB]\n",
      "Get:19 http://archive.ubuntu.com/ubuntu bionic/multiverse amd64 Packages [186 kB]\n",
      "Get:20 http://archive.ubuntu.com/ubuntu bionic/universe amd64 Packages [11.3 MB]\n",
      "Get:21 http://archive.ubuntu.com/ubuntu bionic-updates/universe amd64 Packages [2222 kB]\n",
      "Get:22 http://archive.ubuntu.com/ubuntu bionic-updates/main amd64 Packages [2867 kB]\n",
      "Get:23 http://archive.ubuntu.com/ubuntu bionic-updates/multiverse amd64 Packages [34.4 kB]\n",
      "Get:24 http://archive.ubuntu.com/ubuntu bionic-updates/restricted amd64 Packages [699 kB]\n",
      "Get:25 http://archive.ubuntu.com/ubuntu bionic-backports/main amd64 Packages [11.3 kB]\n",
      "Get:26 http://archive.ubuntu.com/ubuntu bionic-backports/universe amd64 Packages [11.4 kB]\n",
      "Fetched 24.7 MB in 9s (2895 kB/s)                                              \n",
      "Reading package lists... Done\n"
     ]
    }
   ],
   "source": [
    "!apt-get update"
   ]
  },
  {
   "cell_type": "code",
   "execution_count": 8,
   "id": "dddbad05-9a40-4c48-bfb0-597c1d3fd1ce",
   "metadata": {},
   "outputs": [
    {
     "name": "stdout",
     "output_type": "stream",
     "text": [
      "Reading package lists... Done\n",
      "Building dependency tree       \n",
      "Reading state information... Done\n",
      "The following additional packages will be installed:\n",
      "  libbsd0 libdrm-amdgpu1 libdrm-common libdrm-intel1 libdrm-nouveau2\n",
      "  libdrm-radeon1 libdrm2 libedit2 libelf1 libexpat1 libgl1 libgl1-mesa-dri\n",
      "  libglapi-mesa libglvnd0 libglx-mesa0 libglx0 libllvm10 libpciaccess0\n",
      "  libsensors4 libx11-6 libx11-data libx11-xcb1 libxau6 libxcb-dri2-0\n",
      "  libxcb-dri3-0 libxcb-glx0 libxcb-present0 libxcb-sync1 libxcb1 libxdamage1\n",
      "  libxdmcp6 libxext6 libxfixes3 libxshmfence1 libxxf86vm1\n",
      "Suggested packages:\n",
      "  pciutils lm-sensors\n",
      "The following NEW packages will be installed:\n",
      "  libbsd0 libdrm-amdgpu1 libdrm-common libdrm-intel1 libdrm-nouveau2\n",
      "  libdrm-radeon1 libdrm2 libedit2 libelf1 libexpat1 libgl1 libgl1-mesa-dri\n",
      "  libgl1-mesa-glx libglapi-mesa libglvnd0 libglx-mesa0 libglx0 libllvm10\n",
      "  libpciaccess0 libsensors4 libx11-6 libx11-data libx11-xcb1 libxau6\n",
      "  libxcb-dri2-0 libxcb-dri3-0 libxcb-glx0 libxcb-present0 libxcb-sync1 libxcb1\n",
      "  libxdamage1 libxdmcp6 libxext6 libxfixes3 libxshmfence1 libxxf86vm1\n",
      "0 upgraded, 36 newly installed, 0 to remove and 54 not upgraded.\n",
      "Need to get 26.4 MB of archives.\n",
      "After this operation, 331 MB of additional disk space will be used.\n",
      "Get:1 http://archive.ubuntu.com/ubuntu bionic-updates/main amd64 libxau6 amd64 1:1.0.8-1ubuntu1 [7556 B]\n",
      "Get:2 http://archive.ubuntu.com/ubuntu bionic-updates/main amd64 libbsd0 amd64 0.8.7-1ubuntu0.1 [41.6 kB]\n",
      "Get:3 http://archive.ubuntu.com/ubuntu bionic/main amd64 libxdmcp6 amd64 1:1.1.2-3 [10.7 kB]\n",
      "Get:4 http://archive.ubuntu.com/ubuntu bionic-updates/main amd64 libxcb1 amd64 1.13-2~ubuntu18.04 [45.5 kB]\n",
      "Get:5 http://archive.ubuntu.com/ubuntu bionic-updates/main amd64 libx11-data all 2:1.6.4-3ubuntu0.4 [114 kB]\n",
      "Get:6 http://archive.ubuntu.com/ubuntu bionic-updates/main amd64 libx11-6 amd64 2:1.6.4-3ubuntu0.4 [572 kB]\n",
      "Get:7 http://archive.ubuntu.com/ubuntu bionic/main amd64 libxext6 amd64 2:1.3.3-1 [29.4 kB]\n",
      "Get:8 http://archive.ubuntu.com/ubuntu bionic/main amd64 libxxf86vm1 amd64 1:1.1.4-1 [10.6 kB]\n",
      "Get:9 http://archive.ubuntu.com/ubuntu bionic-updates/main amd64 libelf1 amd64 0.170-0.4ubuntu0.1 [44.8 kB]\n",
      "Get:10 http://archive.ubuntu.com/ubuntu bionic-updates/main amd64 libexpat1 amd64 2.2.5-3ubuntu0.2 [80.5 kB]\n",
      "Get:11 http://archive.ubuntu.com/ubuntu bionic-updates/main amd64 libdrm-common all 2.4.101-2~18.04.1 [5560 B]\n",
      "Get:12 http://archive.ubuntu.com/ubuntu bionic-updates/main amd64 libdrm2 amd64 2.4.101-2~18.04.1 [32.3 kB]\n",
      "Get:13 http://archive.ubuntu.com/ubuntu bionic/main amd64 libedit2 amd64 3.1-20170329-1 [76.9 kB]\n",
      "Get:14 http://archive.ubuntu.com/ubuntu bionic-updates/main amd64 libdrm-amdgpu1 amd64 2.4.101-2~18.04.1 [18.2 kB]\n",
      "Get:15 http://archive.ubuntu.com/ubuntu bionic/main amd64 libpciaccess0 amd64 0.14-1 [17.9 kB]\n",
      "Get:16 http://archive.ubuntu.com/ubuntu bionic-updates/main amd64 libdrm-intel1 amd64 2.4.101-2~18.04.1 [60.0 kB]\n",
      "Get:17 http://archive.ubuntu.com/ubuntu bionic-updates/main amd64 libdrm-nouveau2 amd64 2.4.101-2~18.04.1 [16.5 kB]\n",
      "Get:18 http://archive.ubuntu.com/ubuntu bionic-updates/main amd64 libdrm-radeon1 amd64 2.4.101-2~18.04.1 [21.7 kB]\n",
      "Get:19 http://archive.ubuntu.com/ubuntu bionic-updates/main amd64 libglapi-mesa amd64 20.0.8-0ubuntu1~18.04.1 [26.6 kB]\n",
      "Get:20 http://archive.ubuntu.com/ubuntu bionic-updates/main amd64 libllvm10 amd64 1:10.0.0-4ubuntu1~18.04.2 [15.4 MB]\n",
      "Get:21 http://archive.ubuntu.com/ubuntu bionic/main amd64 libsensors4 amd64 1:3.4.0-4 [28.8 kB]\n",
      "Get:22 http://archive.ubuntu.com/ubuntu bionic-updates/main amd64 libgl1-mesa-dri amd64 20.0.8-0ubuntu1~18.04.1 [9333 kB]\n",
      "Get:23 http://archive.ubuntu.com/ubuntu bionic-updates/main amd64 libglvnd0 amd64 1.0.0-2ubuntu2.3 [47.0 kB]\n",
      "Get:24 http://archive.ubuntu.com/ubuntu bionic-updates/main amd64 libx11-xcb1 amd64 2:1.6.4-3ubuntu0.4 [9720 B]\n",
      "Get:25 http://archive.ubuntu.com/ubuntu bionic-updates/main amd64 libxcb-dri2-0 amd64 1.13-2~ubuntu18.04 [6920 B]\n",
      "Get:26 http://archive.ubuntu.com/ubuntu bionic-updates/main amd64 libxcb-dri3-0 amd64 1.13-2~ubuntu18.04 [6568 B]\n",
      "Get:27 http://archive.ubuntu.com/ubuntu bionic-updates/main amd64 libxcb-glx0 amd64 1.13-2~ubuntu18.04 [22.1 kB]\n",
      "Get:28 http://archive.ubuntu.com/ubuntu bionic-updates/main amd64 libxcb-present0 amd64 1.13-2~ubuntu18.04 [5552 B]\n",
      "Get:29 http://archive.ubuntu.com/ubuntu bionic-updates/main amd64 libxcb-sync1 amd64 1.13-2~ubuntu18.04 [8808 B]\n",
      "Get:30 http://archive.ubuntu.com/ubuntu bionic/main amd64 libxdamage1 amd64 1:1.1.4-3 [6934 B]\n",
      "Get:31 http://archive.ubuntu.com/ubuntu bionic/main amd64 libxfixes3 amd64 1:5.0.3-1 [10.8 kB]\n",
      "Get:32 http://archive.ubuntu.com/ubuntu bionic/main amd64 libxshmfence1 amd64 1.3-1 [5028 B]\n",
      "Get:33 http://archive.ubuntu.com/ubuntu bionic-updates/main amd64 libglx-mesa0 amd64 20.0.8-0ubuntu1~18.04.1 [139 kB]\n",
      "Get:34 http://archive.ubuntu.com/ubuntu bionic-updates/main amd64 libglx0 amd64 1.0.0-2ubuntu2.3 [28.1 kB]\n",
      "Get:35 http://archive.ubuntu.com/ubuntu bionic-updates/main amd64 libgl1 amd64 1.0.0-2ubuntu2.3 [86.2 kB]\n",
      "Get:36 http://archive.ubuntu.com/ubuntu bionic-updates/main amd64 libgl1-mesa-glx amd64 20.0.8-0ubuntu1~18.04.1 [5532 B]\n",
      "Fetched 26.4 MB in 8s (3229 kB/s)                                              \n",
      "debconf: delaying package configuration, since apt-utils is not installed\n",
      "Selecting previously unselected package libxau6:amd64.\n",
      "(Reading database ... 12446 files and directories currently installed.)\n",
      "Preparing to unpack .../00-libxau6_1%3a1.0.8-1ubuntu1_amd64.deb ...\n",
      "Unpacking libxau6:amd64 (1:1.0.8-1ubuntu1) ...\n",
      "Selecting previously unselected package libbsd0:amd64.\n",
      "Preparing to unpack .../01-libbsd0_0.8.7-1ubuntu0.1_amd64.deb ...\n",
      "Unpacking libbsd0:amd64 (0.8.7-1ubuntu0.1) ...\n",
      "Selecting previously unselected package libxdmcp6:amd64.\n",
      "Preparing to unpack .../02-libxdmcp6_1%3a1.1.2-3_amd64.deb ...\n",
      "Unpacking libxdmcp6:amd64 (1:1.1.2-3) ...\n",
      "Selecting previously unselected package libxcb1:amd64.\n",
      "Preparing to unpack .../03-libxcb1_1.13-2~ubuntu18.04_amd64.deb ...\n",
      "Unpacking libxcb1:amd64 (1.13-2~ubuntu18.04) ...\n",
      "Selecting previously unselected package libx11-data.\n",
      "Preparing to unpack .../04-libx11-data_2%3a1.6.4-3ubuntu0.4_all.deb ...\n",
      "Unpacking libx11-data (2:1.6.4-3ubuntu0.4) ...\n",
      "Selecting previously unselected package libx11-6:amd64.\n",
      "Preparing to unpack .../05-libx11-6_2%3a1.6.4-3ubuntu0.4_amd64.deb ...\n",
      "Unpacking libx11-6:amd64 (2:1.6.4-3ubuntu0.4) ...\n",
      "Selecting previously unselected package libxext6:amd64.\n",
      "Preparing to unpack .../06-libxext6_2%3a1.3.3-1_amd64.deb ...\n",
      "Unpacking libxext6:amd64 (2:1.3.3-1) ...\n",
      "Selecting previously unselected package libxxf86vm1:amd64.\n",
      "Preparing to unpack .../07-libxxf86vm1_1%3a1.1.4-1_amd64.deb ...\n",
      "Unpacking libxxf86vm1:amd64 (1:1.1.4-1) ...\n",
      "Selecting previously unselected package libelf1:amd64.\n",
      "Preparing to unpack .../08-libelf1_0.170-0.4ubuntu0.1_amd64.deb ...\n",
      "Unpacking libelf1:amd64 (0.170-0.4ubuntu0.1) ...\n",
      "Selecting previously unselected package libexpat1:amd64.\n",
      "Preparing to unpack .../09-libexpat1_2.2.5-3ubuntu0.2_amd64.deb ...\n",
      "Unpacking libexpat1:amd64 (2.2.5-3ubuntu0.2) ...\n",
      "Selecting previously unselected package libdrm-common.\n",
      "Preparing to unpack .../10-libdrm-common_2.4.101-2~18.04.1_all.deb ...\n",
      "Unpacking libdrm-common (2.4.101-2~18.04.1) ...\n",
      "Selecting previously unselected package libdrm2:amd64.\n",
      "Preparing to unpack .../11-libdrm2_2.4.101-2~18.04.1_amd64.deb ...\n",
      "Unpacking libdrm2:amd64 (2.4.101-2~18.04.1) ...\n",
      "Selecting previously unselected package libedit2:amd64.\n",
      "Preparing to unpack .../12-libedit2_3.1-20170329-1_amd64.deb ...\n",
      "Unpacking libedit2:amd64 (3.1-20170329-1) ...\n",
      "Selecting previously unselected package libdrm-amdgpu1:amd64.\n",
      "Preparing to unpack .../13-libdrm-amdgpu1_2.4.101-2~18.04.1_amd64.deb ...\n",
      "Unpacking libdrm-amdgpu1:amd64 (2.4.101-2~18.04.1) ...\n",
      "Selecting previously unselected package libpciaccess0:amd64.\n",
      "Preparing to unpack .../14-libpciaccess0_0.14-1_amd64.deb ...\n",
      "Unpacking libpciaccess0:amd64 (0.14-1) ...\n",
      "Selecting previously unselected package libdrm-intel1:amd64.\n",
      "Preparing to unpack .../15-libdrm-intel1_2.4.101-2~18.04.1_amd64.deb ...\n",
      "Unpacking libdrm-intel1:amd64 (2.4.101-2~18.04.1) ...\n",
      "Selecting previously unselected package libdrm-nouveau2:amd64.\n",
      "Preparing to unpack .../16-libdrm-nouveau2_2.4.101-2~18.04.1_amd64.deb ...\n",
      "Unpacking libdrm-nouveau2:amd64 (2.4.101-2~18.04.1) ...\n",
      "Selecting previously unselected package libdrm-radeon1:amd64.\n",
      "Preparing to unpack .../17-libdrm-radeon1_2.4.101-2~18.04.1_amd64.deb ...\n",
      "Unpacking libdrm-radeon1:amd64 (2.4.101-2~18.04.1) ...\n",
      "Selecting previously unselected package libglapi-mesa:amd64.\n",
      "Preparing to unpack .../18-libglapi-mesa_20.0.8-0ubuntu1~18.04.1_amd64.deb ...\n",
      "Unpacking libglapi-mesa:amd64 (20.0.8-0ubuntu1~18.04.1) ...\n",
      "Selecting previously unselected package libllvm10:amd64.\n",
      "Preparing to unpack .../19-libllvm10_1%3a10.0.0-4ubuntu1~18.04.2_amd64.deb ...\n",
      "Unpacking libllvm10:amd64 (1:10.0.0-4ubuntu1~18.04.2) ...\n",
      "Selecting previously unselected package libsensors4:amd64.\n",
      "Preparing to unpack .../20-libsensors4_1%3a3.4.0-4_amd64.deb ...\n",
      "Unpacking libsensors4:amd64 (1:3.4.0-4) ...\n",
      "Selecting previously unselected package libgl1-mesa-dri:amd64.\n",
      "Preparing to unpack .../21-libgl1-mesa-dri_20.0.8-0ubuntu1~18.04.1_amd64.deb ...\n",
      "Unpacking libgl1-mesa-dri:amd64 (20.0.8-0ubuntu1~18.04.1) ...\n",
      "Selecting previously unselected package libglvnd0:amd64.\n",
      "Preparing to unpack .../22-libglvnd0_1.0.0-2ubuntu2.3_amd64.deb ...\n",
      "Unpacking libglvnd0:amd64 (1.0.0-2ubuntu2.3) ...\n",
      "Selecting previously unselected package libx11-xcb1:amd64.\n",
      "Preparing to unpack .../23-libx11-xcb1_2%3a1.6.4-3ubuntu0.4_amd64.deb ...\n",
      "Unpacking libx11-xcb1:amd64 (2:1.6.4-3ubuntu0.4) ...\n",
      "Selecting previously unselected package libxcb-dri2-0:amd64.\n",
      "Preparing to unpack .../24-libxcb-dri2-0_1.13-2~ubuntu18.04_amd64.deb ...\n",
      "Unpacking libxcb-dri2-0:amd64 (1.13-2~ubuntu18.04) ...\n",
      "Selecting previously unselected package libxcb-dri3-0:amd64.\n",
      "Preparing to unpack .../25-libxcb-dri3-0_1.13-2~ubuntu18.04_amd64.deb ...\n",
      "Unpacking libxcb-dri3-0:amd64 (1.13-2~ubuntu18.04) ...\n",
      "Selecting previously unselected package libxcb-glx0:amd64.\n",
      "Preparing to unpack .../26-libxcb-glx0_1.13-2~ubuntu18.04_amd64.deb ...\n",
      "Unpacking libxcb-glx0:amd64 (1.13-2~ubuntu18.04) ...\n",
      "Selecting previously unselected package libxcb-present0:amd64.\n",
      "Preparing to unpack .../27-libxcb-present0_1.13-2~ubuntu18.04_amd64.deb ...\n",
      "Unpacking libxcb-present0:amd64 (1.13-2~ubuntu18.04) ...\n",
      "Selecting previously unselected package libxcb-sync1:amd64.\n",
      "Preparing to unpack .../28-libxcb-sync1_1.13-2~ubuntu18.04_amd64.deb ...\n",
      "Unpacking libxcb-sync1:amd64 (1.13-2~ubuntu18.04) ...\n",
      "Selecting previously unselected package libxdamage1:amd64.\n",
      "Preparing to unpack .../29-libxdamage1_1%3a1.1.4-3_amd64.deb ...\n",
      "Unpacking libxdamage1:amd64 (1:1.1.4-3) ...\n",
      "Selecting previously unselected package libxfixes3:amd64.\n",
      "Preparing to unpack .../30-libxfixes3_1%3a5.0.3-1_amd64.deb ...\n",
      "Unpacking libxfixes3:amd64 (1:5.0.3-1) ...\n",
      "Selecting previously unselected package libxshmfence1:amd64.\n",
      "Preparing to unpack .../31-libxshmfence1_1.3-1_amd64.deb ...\n",
      "Unpacking libxshmfence1:amd64 (1.3-1) ...\n",
      "Selecting previously unselected package libglx-mesa0:amd64.\n",
      "Preparing to unpack .../32-libglx-mesa0_20.0.8-0ubuntu1~18.04.1_amd64.deb ...\n",
      "Unpacking libglx-mesa0:amd64 (20.0.8-0ubuntu1~18.04.1) ...\n",
      "Selecting previously unselected package libglx0:amd64.\n",
      "Preparing to unpack .../33-libglx0_1.0.0-2ubuntu2.3_amd64.deb ...\n",
      "Unpacking libglx0:amd64 (1.0.0-2ubuntu2.3) ...\n",
      "Selecting previously unselected package libgl1:amd64.\n",
      "Preparing to unpack .../34-libgl1_1.0.0-2ubuntu2.3_amd64.deb ...\n",
      "Unpacking libgl1:amd64 (1.0.0-2ubuntu2.3) ...\n",
      "Selecting previously unselected package libgl1-mesa-glx:amd64.\n",
      "Preparing to unpack .../35-libgl1-mesa-glx_20.0.8-0ubuntu1~18.04.1_amd64.deb ...\n",
      "Unpacking libgl1-mesa-glx:amd64 (20.0.8-0ubuntu1~18.04.1) ...\n",
      "Setting up libedit2:amd64 (3.1-20170329-1) ...\n",
      "Setting up libglvnd0:amd64 (1.0.0-2ubuntu2.3) ...\n",
      "Setting up libexpat1:amd64 (2.2.5-3ubuntu0.2) ...\n",
      "Setting up libllvm10:amd64 (1:10.0.0-4ubuntu1~18.04.2) ...\n",
      "Setting up libelf1:amd64 (0.170-0.4ubuntu0.1) ...\n",
      "Setting up libxshmfence1:amd64 (1.3-1) ...\n",
      "Setting up libglapi-mesa:amd64 (20.0.8-0ubuntu1~18.04.1) ...\n",
      "Setting up libbsd0:amd64 (0.8.7-1ubuntu0.1) ...\n",
      "Setting up libdrm-common (2.4.101-2~18.04.1) ...\n",
      "Setting up libx11-xcb1:amd64 (2:1.6.4-3ubuntu0.4) ...\n",
      "Setting up libpciaccess0:amd64 (0.14-1) ...\n",
      "Setting up libsensors4:amd64 (1:3.4.0-4) ...\n",
      "Setting up libxdmcp6:amd64 (1:1.1.2-3) ...\n",
      "Setting up libx11-data (2:1.6.4-3ubuntu0.4) ...\n",
      "Setting up libxau6:amd64 (1:1.0.8-1ubuntu1) ...\n",
      "Setting up libdrm2:amd64 (2.4.101-2~18.04.1) ...\n",
      "Setting up libdrm-intel1:amd64 (2.4.101-2~18.04.1) ...\n",
      "Setting up libdrm-radeon1:amd64 (2.4.101-2~18.04.1) ...\n",
      "Setting up libdrm-nouveau2:amd64 (2.4.101-2~18.04.1) ...\n",
      "Setting up libxcb1:amd64 (1.13-2~ubuntu18.04) ...\n",
      "Setting up libxcb-present0:amd64 (1.13-2~ubuntu18.04) ...\n",
      "Setting up libxcb-dri2-0:amd64 (1.13-2~ubuntu18.04) ...\n",
      "Setting up libxcb-dri3-0:amd64 (1.13-2~ubuntu18.04) ...\n",
      "Setting up libxcb-glx0:amd64 (1.13-2~ubuntu18.04) ...\n",
      "Setting up libdrm-amdgpu1:amd64 (2.4.101-2~18.04.1) ...\n",
      "Setting up libx11-6:amd64 (2:1.6.4-3ubuntu0.4) ...\n",
      "Setting up libgl1-mesa-dri:amd64 (20.0.8-0ubuntu1~18.04.1) ...\n",
      "Setting up libxcb-sync1:amd64 (1.13-2~ubuntu18.04) ...\n",
      "Setting up libxdamage1:amd64 (1:1.1.4-3) ...\n",
      "Setting up libxext6:amd64 (2:1.3.3-1) ...\n",
      "Setting up libxfixes3:amd64 (1:5.0.3-1) ...\n",
      "Setting up libxxf86vm1:amd64 (1:1.1.4-1) ...\n",
      "Setting up libglx-mesa0:amd64 (20.0.8-0ubuntu1~18.04.1) ...\n",
      "Setting up libglx0:amd64 (1.0.0-2ubuntu2.3) ...\n",
      "Setting up libgl1:amd64 (1.0.0-2ubuntu2.3) ...\n",
      "Setting up libgl1-mesa-glx:amd64 (20.0.8-0ubuntu1~18.04.1) ...\n",
      "Processing triggers for libc-bin (2.27-3ubuntu1.3) ...\n"
     ]
    }
   ],
   "source": [
    "!apt-get -y install libgl1-mesa-glx"
   ]
  },
  {
   "cell_type": "code",
   "execution_count": 1,
   "id": "1bdd87a8-85d8-4139-b55a-07f56f76fc45",
   "metadata": {},
   "outputs": [
    {
     "name": "stdout",
     "output_type": "stream",
     "text": [
      "Reading package lists... Done\n",
      "Building dependency tree       \n",
      "Reading state information... Done\n",
      "The following additional packages will be installed:\n",
      "  libglib2.0-data libicu60 libxml2 shared-mime-info xdg-user-dirs\n",
      "The following NEW packages will be installed:\n",
      "  libglib2.0-0 libglib2.0-data libicu60 libxml2 shared-mime-info xdg-user-dirs\n",
      "0 upgraded, 6 newly installed, 0 to remove and 54 not upgraded.\n",
      "Need to get 10.4 MB of archives.\n",
      "After this operation, 40.9 MB of additional disk space will be used.\n",
      "Get:1 http://archive.ubuntu.com/ubuntu bionic-updates/main amd64 libglib2.0-0 amd64 2.56.4-0ubuntu0.18.04.8 [1171 kB]\n",
      "Get:2 http://archive.ubuntu.com/ubuntu bionic-updates/main amd64 libglib2.0-data all 2.56.4-0ubuntu0.18.04.8 [4716 B]\n",
      "Get:3 http://archive.ubuntu.com/ubuntu bionic-updates/main amd64 libicu60 amd64 60.2-3ubuntu3.2 [8050 kB]\n",
      "Get:4 http://archive.ubuntu.com/ubuntu bionic-updates/main amd64 libxml2 amd64 2.9.4+dfsg1-6.1ubuntu1.4 [664 kB]\n",
      "Get:5 http://archive.ubuntu.com/ubuntu bionic/main amd64 shared-mime-info amd64 1.9-2 [426 kB]\n",
      "Get:6 http://archive.ubuntu.com/ubuntu bionic/main amd64 xdg-user-dirs amd64 0.17-1ubuntu1 [48.0 kB]\n",
      "Fetched 10.4 MB in 4s (2308 kB/s)       \n",
      "debconf: delaying package configuration, since apt-utils is not installed\n",
      "Selecting previously unselected package libglib2.0-0:amd64.\n",
      "(Reading database ... 12932 files and directories currently installed.)\n",
      "Preparing to unpack .../0-libglib2.0-0_2.56.4-0ubuntu0.18.04.8_amd64.deb ...\n",
      "Unpacking libglib2.0-0:amd64 (2.56.4-0ubuntu0.18.04.8) ...\n",
      "Selecting previously unselected package libglib2.0-data.\n",
      "Preparing to unpack .../1-libglib2.0-data_2.56.4-0ubuntu0.18.04.8_all.deb ...\n",
      "Unpacking libglib2.0-data (2.56.4-0ubuntu0.18.04.8) ...\n",
      "Selecting previously unselected package libicu60:amd64.\n",
      "Preparing to unpack .../2-libicu60_60.2-3ubuntu3.2_amd64.deb ...\n",
      "Unpacking libicu60:amd64 (60.2-3ubuntu3.2) ...\n",
      "Selecting previously unselected package libxml2:amd64.\n",
      "Preparing to unpack .../3-libxml2_2.9.4+dfsg1-6.1ubuntu1.4_amd64.deb ...\n",
      "Unpacking libxml2:amd64 (2.9.4+dfsg1-6.1ubuntu1.4) ...\n",
      "Selecting previously unselected package shared-mime-info.\n",
      "Preparing to unpack .../4-shared-mime-info_1.9-2_amd64.deb ...\n",
      "Unpacking shared-mime-info (1.9-2) ...\n",
      "Selecting previously unselected package xdg-user-dirs.\n",
      "Preparing to unpack .../5-xdg-user-dirs_0.17-1ubuntu1_amd64.deb ...\n",
      "Unpacking xdg-user-dirs (0.17-1ubuntu1) ...\n",
      "Setting up libicu60:amd64 (60.2-3ubuntu3.2) ...\n",
      "Setting up libglib2.0-0:amd64 (2.56.4-0ubuntu0.18.04.8) ...\n",
      "No schema files found: doing nothing.\n",
      "Setting up libxml2:amd64 (2.9.4+dfsg1-6.1ubuntu1.4) ...\n",
      "Setting up libglib2.0-data (2.56.4-0ubuntu0.18.04.8) ...\n",
      "Setting up shared-mime-info (1.9-2) ...\n",
      "Setting up xdg-user-dirs (0.17-1ubuntu1) ...\n",
      "Processing triggers for libc-bin (2.27-3ubuntu1.3) ...\n"
     ]
    }
   ],
   "source": [
    "!apt-get install libglib2.0-0 -y"
   ]
  },
  {
   "cell_type": "code",
   "execution_count": 5,
   "id": "6dd5e676-9ea6-4380-8173-f7cbf1169674",
   "metadata": {},
   "outputs": [],
   "source": [
    "import os\n",
    "import glob as _glob\n",
    "import os.path as osp\n",
    "import numpy as np"
   ]
  },
  {
   "cell_type": "code",
   "execution_count": 6,
   "id": "33c5f7c4-2f17-411c-99a8-745aaeeab9a7",
   "metadata": {},
   "outputs": [],
   "source": [
    "def glob(dir, pats, recursive=False):  # faster than match, python3 only\n",
    "    pats = pats if isinstance(pats, (list, tuple)) else [pats]\n",
    "    matches = []\n",
    "    for pat in pats:\n",
    "        matches += _glob.glob(os.path.join(dir, pat), recursive=recursive)\n",
    "    return matches"
   ]
  },
  {
   "cell_type": "code",
   "execution_count": 7,
   "id": "0122994b-7ba1-4a82-a79e-3733c0ce8d00",
   "metadata": {},
   "outputs": [],
   "source": [
    "ann_ls = glob('2D_BB','*/*/*/*.json')"
   ]
  },
  {
   "cell_type": "code",
   "execution_count": 8,
   "id": "9749142a-44de-4dd0-b90c-2ebd4b9b55b6",
   "metadata": {},
   "outputs": [],
   "source": [
    "ann_ls.sort()\n",
    "ann_ls=np.array(ann_ls)"
   ]
  },
  {
   "cell_type": "code",
   "execution_count": 9,
   "id": "1f89f15f-1098-47d8-8984-12b405bf48ca",
   "metadata": {},
   "outputs": [
    {
     "data": {
      "text/plain": [
       "(190383,)"
      ]
     },
     "execution_count": 9,
     "metadata": {},
     "output_type": "execute_result"
    }
   ],
   "source": [
    "ann_ls.shape"
   ]
  },
  {
   "cell_type": "code",
   "execution_count": 14,
   "id": "e1c5cb69-4186-4891-8303-29fc63a378de",
   "metadata": {},
   "outputs": [],
   "source": [
    "total_idx = np.arange(ann_ls.shape[0])"
   ]
  },
  {
   "cell_type": "code",
   "execution_count": 15,
   "id": "036bbb8a-e81f-4cc7-8cfb-7c8c9ed758f0",
   "metadata": {},
   "outputs": [],
   "source": [
    "test_idx = np.random.choice(total_idx,size=int(total_idx.shape[0]*0.05),replace=False)"
   ]
  },
  {
   "cell_type": "code",
   "execution_count": 16,
   "id": "3e2a8152-288d-4ef0-be2f-87cc9ab2544b",
   "metadata": {},
   "outputs": [
    {
     "data": {
      "text/plain": [
       "(9519,)"
      ]
     },
     "execution_count": 16,
     "metadata": {},
     "output_type": "execute_result"
    }
   ],
   "source": [
    "test_ls=ann_ls[test_idx]\n",
    "test_ls.shape"
   ]
  },
  {
   "cell_type": "code",
   "execution_count": 17,
   "id": "424910f4-7d33-44aa-875d-4eebef5d0184",
   "metadata": {},
   "outputs": [
    {
     "data": {
      "text/plain": [
       "array([     0,      1,      2, ..., 190380, 190381, 190382])"
      ]
     },
     "execution_count": 17,
     "metadata": {},
     "output_type": "execute_result"
    }
   ],
   "source": [
    "train_idx=np.delete(total_idx,test_idx)\n",
    "train_idx"
   ]
  },
  {
   "cell_type": "code",
   "execution_count": 18,
   "id": "d8ccb2ca-71f4-4b74-8507-188273e4e9ee",
   "metadata": {},
   "outputs": [
    {
     "data": {
      "text/plain": [
       "array(['2D_BB/DA_00C_AC/DA_00C_AC_211006_01/labels/DA_00C_AC_211006_01_000200.json',\n",
       "       '2D_BB/DA_00C_AC/DA_00C_AC_211006_01/labels/DA_00C_AC_211006_01_000201.json',\n",
       "       '2D_BB/DA_00C_AC/DA_00C_AC_211006_01/labels/DA_00C_AC_211006_01_000202.json',\n",
       "       ...,\n",
       "       '2D_BB/SS_0SC_TE/SS_0SC_TE_211031_01/labels/SS_0SC_TE_211031_01_000257.json',\n",
       "       '2D_BB/SS_0SC_TE/SS_0SC_TE_211031_01/labels/SS_0SC_TE_211031_01_000258.json',\n",
       "       '2D_BB/SS_0SC_TE/SS_0SC_TE_211031_01/labels/SS_0SC_TE_211031_01_000259.json'],\n",
       "      dtype='<U74')"
      ]
     },
     "execution_count": 18,
     "metadata": {},
     "output_type": "execute_result"
    }
   ],
   "source": [
    "train_ls=ann_ls[train_idx]\n",
    "train_ls"
   ]
  },
  {
   "cell_type": "code",
   "execution_count": 88,
   "id": "2d24ce81-8d47-49cf-9f91-667f2ffea5d8",
   "metadata": {},
   "outputs": [],
   "source": [
    "train_ls = train_ls.tolist()\n",
    "test_ls = test_ls.tolist()"
   ]
  },
  {
   "cell_type": "code",
   "execution_count": 89,
   "id": "5f22a6bb-1cb2-4472-80ac-09a63bc91e20",
   "metadata": {},
   "outputs": [],
   "source": [
    "with open(osp.join('splits', 'train.txt'), 'w') as f:\n",
    "  f.writelines(line + '\\n' for line in train_ls)\n",
    "\n",
    "with open(osp.join('splits', 'val.txt'), 'w') as f:\n",
    "  f.writelines(line + '\\n' for line in test_ls)"
   ]
  },
  {
   "cell_type": "code",
   "execution_count": 14,
   "id": "52a99251-4120-423e-ab6a-57ba00f3f222",
   "metadata": {},
   "outputs": [],
   "source": [
    "import mmcv\n",
    "import json\n",
    "import shutil"
   ]
  },
  {
   "cell_type": "code",
   "execution_count": 91,
   "id": "be0ddb22-688f-4abb-938a-a8ad01459cd3",
   "metadata": {},
   "outputs": [
    {
     "data": {
      "text/plain": [
       "['{',\n",
       " '    \"Source_Image_Info\": {',\n",
       " '        \"Img_name\": \"DA_00C_AC_211006_01_000200.jpg\",',\n",
       " '        \"Img_path\": \"DA_00C_AC_211006_01/JPEGImages\",',\n",
       " '        \"Resolution\": [',\n",
       " '            1920,',\n",
       " '            1080',\n",
       " '        ],',\n",
       " '        \"Copyrighter\": \"(주)미디어그룹사람과숲\",',\n",
       " '        \"Time_zone\": \"주간\",',\n",
       " '        \"Location\": \"사고상황\",',\n",
       " '        \"Gps\": \"\",',\n",
       " '        \"Weather\": \"흐림\"',\n",
       " '    },',\n",
       " '    \"Annotation\": [',\n",
       " '        {',\n",
       " '            \"Label\": \"car\",',\n",
       " '            \"Type\": \"bbox\",',\n",
       " '            \"Coordinate\": [',\n",
       " '                1253.52,',\n",
       " '                510.89,',\n",
       " '                1594.06,',\n",
       " '                715.36',\n",
       " '            ],',\n",
       " '            \"Data_type\": \"worker\"',\n",
       " '        },',\n",
       " '        {',\n",
       " '            \"Label\": \"car\",',\n",
       " '            \"Type\": \"bbox\",',\n",
       " '            \"Coordinate\": [',\n",
       " '                1151.22,',\n",
       " '                491.56,',\n",
       " '                1195.04,',\n",
       " '                512.67',\n",
       " '            ],',\n",
       " '            \"Data_type\": \"worker\"',\n",
       " '        },',\n",
       " '        {',\n",
       " '            \"Label\": \"pedestrian\",',\n",
       " '            \"Type\": \"bbox\",',\n",
       " '            \"Coordinate\": [',\n",
       " '                172.04,',\n",
       " '                446.37,',\n",
       " '                182.84,',\n",
       " '                483.63',\n",
       " '            ],',\n",
       " '            \"Data_type\": \"worker\"',\n",
       " '        },',\n",
       " '        {',\n",
       " '            \"Label\": \"pedestrian\",',\n",
       " '            \"Type\": \"bbox\",',\n",
       " '            \"Coordinate\": [',\n",
       " '                184.5,',\n",
       " '                445.27,',\n",
       " '                195.31,',\n",
       " '                482.53',\n",
       " '            ],',\n",
       " '            \"Data_type\": \"worker\"',\n",
       " '        },',\n",
       " '        {',\n",
       " '            \"Label\": \"car\",',\n",
       " '            \"Type\": \"bbox\",',\n",
       " '            \"Coordinate\": [',\n",
       " '                1135.92,',\n",
       " '                487.33,',\n",
       " '                1181.84,',\n",
       " '                507.39',\n",
       " '            ],',\n",
       " '            \"Data_type\": \"worker\"',\n",
       " '        },',\n",
       " '        {',\n",
       " '            \"Label\": \"non\",',\n",
       " '            \"Type\": \"bbox\",',\n",
       " '            \"Coordinate\": [',\n",
       " '                892.77,',\n",
       " '                513.55,',\n",
       " '                965.74,',\n",
       " '                591.08',\n",
       " '            ],',\n",
       " '            \"Data_type\": \"worker\"',\n",
       " '        },',\n",
       " '        {',\n",
       " '            \"Label\": \"pedestrian\",',\n",
       " '            \"Type\": \"bbox\",',\n",
       " '            \"Coordinate\": [',\n",
       " '                877.84,',\n",
       " '                513.2,',\n",
       " '                1056.4,',\n",
       " '                881.48',\n",
       " '            ],',\n",
       " '            \"Data_type\": \"worker\"',\n",
       " '        },',\n",
       " '        {',\n",
       " '            \"Label\": \"non\",',\n",
       " '            \"Type\": \"bbox\",',\n",
       " '            \"Coordinate\": [',\n",
       " '                1255.93,',\n",
       " '                651.57,',\n",
       " '                1283.17,',\n",
       " '                676.91',\n",
       " '            ],',\n",
       " '            \"Data_type\": \"worker\"',\n",
       " '        },',\n",
       " '        {',\n",
       " '            \"Label\": \"non\",',\n",
       " '            \"Type\": \"bbox\",',\n",
       " '            \"Coordinate\": [',\n",
       " '                1400.35,',\n",
       " '                716.82,',\n",
       " '                1439.63,',\n",
       " '                754.19',\n",
       " '            ],',\n",
       " '            \"Data_type\": \"worker\"',\n",
       " '        },',\n",
       " '        {',\n",
       " '            \"Label\": \"non\",',\n",
       " '            \"Type\": \"bbox\",',\n",
       " '            \"Coordinate\": [',\n",
       " '                1551.11,',\n",
       " '                849.84,',\n",
       " '                1628.39,',\n",
       " '                913.81',\n",
       " '            ],',\n",
       " '            \"Data_type\": \"worker\"',\n",
       " '        },',\n",
       " '        {',\n",
       " '            \"Label\": \"traffic sign\",',\n",
       " '            \"Type\": \"bbox\",',\n",
       " '            \"Coordinate\": [',\n",
       " '                1222.42,',\n",
       " '                440.39,',\n",
       " '                1273.03,',\n",
       " '                509.94',\n",
       " '            ],',\n",
       " '            \"Data_type\": \"worker\"',\n",
       " '        },',\n",
       " '        {',\n",
       " '            \"Label\": \"car\",',\n",
       " '            \"Type\": \"bbox\",',\n",
       " '            \"Coordinate\": [',\n",
       " '                1527.2,',\n",
       " '                593.57,',\n",
       " '                1920.0,',\n",
       " '                982.36',\n",
       " '            ],',\n",
       " '            \"Data_type\": \"worker\"',\n",
       " '        },',\n",
       " '        {',\n",
       " '            \"Label\": \"car\",',\n",
       " '            \"Type\": \"bbox\",',\n",
       " '            \"Coordinate\": [',\n",
       " '                1824.05,',\n",
       " '                856.27,',\n",
       " '                1920.0,',\n",
       " '                1020.46',\n",
       " '            ],',\n",
       " '            \"Data_type\": \"worker\"',\n",
       " '        },',\n",
       " '        {',\n",
       " '            \"Label\": \"car\",',\n",
       " '            \"Type\": \"bbox\",',\n",
       " '            \"Coordinate\": [',\n",
       " '                1392.39,',\n",
       " '                495.06,',\n",
       " '                1894.8,',\n",
       " '                812.49',\n",
       " '            ],',\n",
       " '            \"Data_type\": \"worker\"',\n",
       " '        }',\n",
       " '    ]',\n",
       " '}']"
      ]
     },
     "execution_count": 91,
     "metadata": {},
     "output_type": "execute_result"
    }
   ],
   "source": [
    "mmcv.list_from_file(train_ls[0])"
   ]
  },
  {
   "cell_type": "code",
   "execution_count": 92,
   "id": "ae4537a5-13cc-414d-962e-e61c8b24281a",
   "metadata": {},
   "outputs": [],
   "source": [
    "ann_ls = glob('2D_BB','*/*/*/*.json')\n",
    "img_ls = glob('2D_BB','*/*/*/*.jpg')\n"
   ]
  },
  {
   "cell_type": "code",
   "execution_count": 93,
   "id": "848f1861-3165-4afe-834b-c6283786d0f1",
   "metadata": {},
   "outputs": [
    {
     "name": "stdout",
     "output_type": "stream",
     "text": [
      "190383 190383\n"
     ]
    }
   ],
   "source": [
    "print(len(ann_ls),len(img_ls))"
   ]
  },
  {
   "cell_type": "code",
   "execution_count": 94,
   "id": "5709cdfe-bf04-4c5e-934e-57a6757e98a6",
   "metadata": {},
   "outputs": [],
   "source": [
    "ls = mmcv.list_from_file(train_ls[0])"
   ]
  },
  {
   "cell_type": "code",
   "execution_count": 96,
   "id": "d1bd0435-59ea-43ff-a019-8bcda30b110e",
   "metadata": {},
   "outputs": [
    {
     "name": "stdout",
     "output_type": "stream",
     "text": [
      "{\n"
     ]
    }
   ],
   "source": [
    "for img_id in ls:\n",
    "    print(img_id)\n",
    "    break"
   ]
  },
  {
   "cell_type": "code",
   "execution_count": 19,
   "id": "cb43bac0-ea9e-4d2a-8c55-86e8dc54fc7e",
   "metadata": {},
   "outputs": [],
   "source": [
    "\n",
    "import json"
   ]
  },
  {
   "cell_type": "code",
   "execution_count": 20,
   "id": "c7abc8f2-73a1-44d8-b6ff-f45d46d799e3",
   "metadata": {},
   "outputs": [],
   "source": [
    "json_data = {}\n",
    "with open(train_ls[0], \"r\") as json_file:\n",
    "    json_data = json.load(json_file)\n",
    "        "
   ]
  },
  {
   "cell_type": "code",
   "execution_count": 21,
   "id": "a68395cf-9b0d-4f14-ba6e-555ca8b18e22",
   "metadata": {},
   "outputs": [
    {
     "data": {
      "text/plain": [
       "'DA_00C_AC_211006_01/JPEGImages/DA_00C_AC_211006_01_000200.jpg'"
      ]
     },
     "execution_count": 21,
     "metadata": {},
     "output_type": "execute_result"
    }
   ],
   "source": [
    "json_data['Source_Image_Info']['Img_path']+'/'+json_data['Source_Image_Info']['Img_name']"
   ]
  },
  {
   "cell_type": "code",
   "execution_count": 22,
   "id": "3abdfd7e-c63c-4d33-b4c4-9a287996fd29",
   "metadata": {},
   "outputs": [
    {
     "data": {
      "text/plain": [
       "'DA_00C_AC_211006_01_000200.jpg'"
      ]
     },
     "execution_count": 22,
     "metadata": {},
     "output_type": "execute_result"
    }
   ],
   "source": [
    "json_data['Source_Image_Info']['Img_name']"
   ]
  },
  {
   "cell_type": "code",
   "execution_count": 24,
   "id": "4b0c5856-2ad0-4586-bd83-f829cf82b440",
   "metadata": {},
   "outputs": [
    {
     "data": {
      "text/plain": [
       "14"
      ]
     },
     "execution_count": 24,
     "metadata": {},
     "output_type": "execute_result"
    }
   ],
   "source": [
    "len(json_data['Annotation'])"
   ]
  },
  {
   "cell_type": "code",
   "execution_count": 25,
   "id": "3c526416-c800-4e79-9042-223da35b73b5",
   "metadata": {},
   "outputs": [
    {
     "data": {
      "text/plain": [
       "[1253.52, 510.89, 1594.06, 715.36]"
      ]
     },
     "execution_count": 25,
     "metadata": {},
     "output_type": "execute_result"
    }
   ],
   "source": [
    "json_data['Annotation'][0]['Coordinate']"
   ]
  },
  {
   "cell_type": "code",
   "execution_count": 26,
   "id": "d8dac60e-28ca-4683-ad80-c6d88a5cf14e",
   "metadata": {},
   "outputs": [
    {
     "data": {
      "text/plain": [
       "'DA_00C_AC'"
      ]
     },
     "execution_count": 26,
     "metadata": {},
     "output_type": "execute_result"
    }
   ],
   "source": [
    "json_data['Source_Image_Info']['Img_path'][0:9]"
   ]
  },
  {
   "cell_type": "code",
   "execution_count": 34,
   "id": "aa175f92-aa94-4011-843c-f4c04c6bdb0f",
   "metadata": {},
   "outputs": [
    {
     "data": {
      "text/plain": [
       "1920"
      ]
     },
     "execution_count": 34,
     "metadata": {},
     "output_type": "execute_result"
    }
   ],
   "source": [
    "json_data['Source_Image_Info']['Resolution'][0]"
   ]
  },
  {
   "cell_type": "code",
   "execution_count": 15,
   "id": "2041d91d-b129-4fdf-a936-f580f5a70d9e",
   "metadata": {},
   "outputs": [],
   "source": [
    "ls=mmcv.list_from_file('splits/val.txt')"
   ]
  },
  {
   "cell_type": "code",
   "execution_count": 18,
   "id": "b47f7f3f-82ad-48c5-990c-473c35583b79",
   "metadata": {},
   "outputs": [
    {
     "ename": "FileNotFoundError",
     "evalue": "[Errno 2] No such file or directory: '2D_BB/SS_0SC_TE/SS_0SC_TE_210918_01_000328.jpg'",
     "output_type": "error",
     "traceback": [
      "\u001b[0;31m---------------------------------------------------------------------------\u001b[0m",
      "\u001b[0;31mFileNotFoundError\u001b[0m                         Traceback (most recent call last)",
      "\u001b[0;32m/tmp/ipykernel_1510/2408943170.py\u001b[0m in \u001b[0;36m<module>\u001b[0;34m\u001b[0m\n\u001b[1;32m      6\u001b[0m     \u001b[0moripath\u001b[0m\u001b[0;34m=\u001b[0m\u001b[0;34m'2D_BB/'\u001b[0m\u001b[0;34m+\u001b[0m\u001b[0mjson_data\u001b[0m\u001b[0;34m[\u001b[0m\u001b[0;34m'Source_Image_Info'\u001b[0m\u001b[0;34m]\u001b[0m\u001b[0;34m[\u001b[0m\u001b[0;34m'Img_path'\u001b[0m\u001b[0;34m]\u001b[0m\u001b[0;34m[\u001b[0m\u001b[0;36m0\u001b[0m\u001b[0;34m:\u001b[0m\u001b[0;36m9\u001b[0m\u001b[0;34m]\u001b[0m\u001b[0;34m+\u001b[0m\u001b[0;34m'/'\u001b[0m\u001b[0;34m+\u001b[0m\u001b[0mjson_data\u001b[0m\u001b[0;34m[\u001b[0m\u001b[0;34m'Source_Image_Info'\u001b[0m\u001b[0;34m]\u001b[0m\u001b[0;34m[\u001b[0m\u001b[0;34m'Img_name'\u001b[0m\u001b[0;34m]\u001b[0m\u001b[0;34m\u001b[0m\u001b[0;34m\u001b[0m\u001b[0m\n\u001b[1;32m      7\u001b[0m \u001b[0;34m\u001b[0m\u001b[0m\n\u001b[0;32m----> 8\u001b[0;31m     \u001b[0mshutil\u001b[0m\u001b[0;34m.\u001b[0m\u001b[0mcopy\u001b[0m\u001b[0;34m(\u001b[0m\u001b[0moripath\u001b[0m\u001b[0;34m,\u001b[0m \u001b[0;34m'test'\u001b[0m\u001b[0;34m+\u001b[0m\u001b[0;34m'/'\u001b[0m\u001b[0;34m+\u001b[0m\u001b[0mjson_data\u001b[0m\u001b[0;34m[\u001b[0m\u001b[0;34m'Source_Image_Info'\u001b[0m\u001b[0;34m]\u001b[0m\u001b[0;34m[\u001b[0m\u001b[0;34m'Img_name'\u001b[0m\u001b[0;34m]\u001b[0m\u001b[0;34m)\u001b[0m\u001b[0;34m\u001b[0m\u001b[0;34m\u001b[0m\u001b[0m\n\u001b[0m\u001b[1;32m      9\u001b[0m \u001b[0;34m\u001b[0m\u001b[0m\n\u001b[1;32m     10\u001b[0m     \u001b[0;32mbreak\u001b[0m\u001b[0;34m\u001b[0m\u001b[0;34m\u001b[0m\u001b[0m\n",
      "\u001b[0;32m/opt/conda/lib/python3.7/shutil.py\u001b[0m in \u001b[0;36mcopy\u001b[0;34m(src, dst, follow_symlinks)\u001b[0m\n\u001b[1;32m    246\u001b[0m     \u001b[0;32mif\u001b[0m \u001b[0mos\u001b[0m\u001b[0;34m.\u001b[0m\u001b[0mpath\u001b[0m\u001b[0;34m.\u001b[0m\u001b[0misdir\u001b[0m\u001b[0;34m(\u001b[0m\u001b[0mdst\u001b[0m\u001b[0;34m)\u001b[0m\u001b[0;34m:\u001b[0m\u001b[0;34m\u001b[0m\u001b[0;34m\u001b[0m\u001b[0m\n\u001b[1;32m    247\u001b[0m         \u001b[0mdst\u001b[0m \u001b[0;34m=\u001b[0m \u001b[0mos\u001b[0m\u001b[0;34m.\u001b[0m\u001b[0mpath\u001b[0m\u001b[0;34m.\u001b[0m\u001b[0mjoin\u001b[0m\u001b[0;34m(\u001b[0m\u001b[0mdst\u001b[0m\u001b[0;34m,\u001b[0m \u001b[0mos\u001b[0m\u001b[0;34m.\u001b[0m\u001b[0mpath\u001b[0m\u001b[0;34m.\u001b[0m\u001b[0mbasename\u001b[0m\u001b[0;34m(\u001b[0m\u001b[0msrc\u001b[0m\u001b[0;34m)\u001b[0m\u001b[0;34m)\u001b[0m\u001b[0;34m\u001b[0m\u001b[0;34m\u001b[0m\u001b[0m\n\u001b[0;32m--> 248\u001b[0;31m     \u001b[0mcopyfile\u001b[0m\u001b[0;34m(\u001b[0m\u001b[0msrc\u001b[0m\u001b[0;34m,\u001b[0m \u001b[0mdst\u001b[0m\u001b[0;34m,\u001b[0m \u001b[0mfollow_symlinks\u001b[0m\u001b[0;34m=\u001b[0m\u001b[0mfollow_symlinks\u001b[0m\u001b[0;34m)\u001b[0m\u001b[0;34m\u001b[0m\u001b[0;34m\u001b[0m\u001b[0m\n\u001b[0m\u001b[1;32m    249\u001b[0m     \u001b[0mcopymode\u001b[0m\u001b[0;34m(\u001b[0m\u001b[0msrc\u001b[0m\u001b[0;34m,\u001b[0m \u001b[0mdst\u001b[0m\u001b[0;34m,\u001b[0m \u001b[0mfollow_symlinks\u001b[0m\u001b[0;34m=\u001b[0m\u001b[0mfollow_symlinks\u001b[0m\u001b[0;34m)\u001b[0m\u001b[0;34m\u001b[0m\u001b[0;34m\u001b[0m\u001b[0m\n\u001b[1;32m    250\u001b[0m     \u001b[0;32mreturn\u001b[0m \u001b[0mdst\u001b[0m\u001b[0;34m\u001b[0m\u001b[0;34m\u001b[0m\u001b[0m\n",
      "\u001b[0;32m/opt/conda/lib/python3.7/shutil.py\u001b[0m in \u001b[0;36mcopyfile\u001b[0;34m(src, dst, follow_symlinks)\u001b[0m\n\u001b[1;32m    118\u001b[0m         \u001b[0mos\u001b[0m\u001b[0;34m.\u001b[0m\u001b[0msymlink\u001b[0m\u001b[0;34m(\u001b[0m\u001b[0mos\u001b[0m\u001b[0;34m.\u001b[0m\u001b[0mreadlink\u001b[0m\u001b[0;34m(\u001b[0m\u001b[0msrc\u001b[0m\u001b[0;34m)\u001b[0m\u001b[0;34m,\u001b[0m \u001b[0mdst\u001b[0m\u001b[0;34m)\u001b[0m\u001b[0;34m\u001b[0m\u001b[0;34m\u001b[0m\u001b[0m\n\u001b[1;32m    119\u001b[0m     \u001b[0;32melse\u001b[0m\u001b[0;34m:\u001b[0m\u001b[0;34m\u001b[0m\u001b[0;34m\u001b[0m\u001b[0m\n\u001b[0;32m--> 120\u001b[0;31m         \u001b[0;32mwith\u001b[0m \u001b[0mopen\u001b[0m\u001b[0;34m(\u001b[0m\u001b[0msrc\u001b[0m\u001b[0;34m,\u001b[0m \u001b[0;34m'rb'\u001b[0m\u001b[0;34m)\u001b[0m \u001b[0;32mas\u001b[0m \u001b[0mfsrc\u001b[0m\u001b[0;34m:\u001b[0m\u001b[0;34m\u001b[0m\u001b[0;34m\u001b[0m\u001b[0m\n\u001b[0m\u001b[1;32m    121\u001b[0m             \u001b[0;32mwith\u001b[0m \u001b[0mopen\u001b[0m\u001b[0;34m(\u001b[0m\u001b[0mdst\u001b[0m\u001b[0;34m,\u001b[0m \u001b[0;34m'wb'\u001b[0m\u001b[0;34m)\u001b[0m \u001b[0;32mas\u001b[0m \u001b[0mfdst\u001b[0m\u001b[0;34m:\u001b[0m\u001b[0;34m\u001b[0m\u001b[0;34m\u001b[0m\u001b[0m\n\u001b[1;32m    122\u001b[0m                 \u001b[0mcopyfileobj\u001b[0m\u001b[0;34m(\u001b[0m\u001b[0mfsrc\u001b[0m\u001b[0;34m,\u001b[0m \u001b[0mfdst\u001b[0m\u001b[0;34m)\u001b[0m\u001b[0;34m\u001b[0m\u001b[0;34m\u001b[0m\u001b[0m\n",
      "\u001b[0;31mFileNotFoundError\u001b[0m: [Errno 2] No such file or directory: '2D_BB/SS_0SC_TE/SS_0SC_TE_210918_01_000328.jpg'"
     ]
    }
   ],
   "source": [
    "for data in ls:\n",
    "    json_data = {}\n",
    "    with open(data, \"r\") as json_file:\n",
    "        json_data = json.load(json_file)\n",
    "    \n",
    "    oripath='2D_BB/'+json_data['Source_Image_Info']['Img_path'][0:9]+'/'+json_data['Source_Image_Info']['Img_path']+'/'+json_data['Source_Image_Info']['Img_name']\n",
    "    \n",
    "    shutil.copy(oripath, 'test'+'/'+json_data['Source_Image_Info']['Img_name'])\n",
    "        \n",
    "    break"
   ]
  },
  {
   "cell_type": "code",
   "execution_count": null,
   "id": "917a231b-bbb2-45a9-8c4f-67b93022a34f",
   "metadata": {},
   "outputs": [],
   "source": []
  }
 ],
 "metadata": {
  "kernelspec": {
   "display_name": "Python 3 (ipykernel)",
   "language": "python",
   "name": "python3"
  },
  "language_info": {
   "codemirror_mode": {
    "name": "ipython",
    "version": 3
   },
   "file_extension": ".py",
   "mimetype": "text/x-python",
   "name": "python",
   "nbconvert_exporter": "python",
   "pygments_lexer": "ipython3",
   "version": "3.7.10"
  }
 },
 "nbformat": 4,
 "nbformat_minor": 5
}
